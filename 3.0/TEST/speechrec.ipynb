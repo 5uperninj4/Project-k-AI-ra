{
 "cells": [
  {
   "cell_type": "code",
   "execution_count": 2,
   "metadata": {},
   "outputs": [],
   "source": [
    "import pyttsx3 as tts\n",
    "import speech_recognition as sr\n",
    "import pocketsphinx\n",
    "import multiprocessing as mp\n",
    "from IPython.display import display, Markdown"
   ]
  },
  {
   "cell_type": "code",
   "execution_count": 3,
   "metadata": {},
   "outputs": [],
   "source": [
    "engine = tts.init() # object creation\n",
    "\n",
    "voice = engine.getProperty('voices')\n",
    "engine.setProperty('voice', voice[1].id)"
   ]
  },
  {
   "cell_type": "code",
   "execution_count": 4,
   "metadata": {},
   "outputs": [],
   "source": [
    "def listen(queue):\n",
    "    r = sr.Recognizer()\n",
    "    with sr.Microphone() as source:\n",
    "        while True:\n",
    "            try:\n",
    "                print(\"Say something!\")\n",
    "                audio = r.listen(source)\n",
    "                text = r.recognize_sphinx(audio)\n",
    "                queue.put(text)\n",
    "            except Exception as e:\n",
    "                print(e)"
   ]
  },
  {
   "cell_type": "code",
   "execution_count": 5,
   "metadata": {},
   "outputs": [],
   "source": [
    "def speak(queue):\n",
    "    while True:\n",
    "        text = queue.get()\n",
    "        if text:\n",
    "            engine.say(text)\n",
    "            print(text)\n",
    "            engine.runAndWait()\n",
    "        else:\n",
    "            break"
   ]
  },
  {
   "cell_type": "code",
   "execution_count": 6,
   "metadata": {},
   "outputs": [],
   "source": [
    "while True:\n",
    "    queue = mp.Queue()\n",
    "    listener_process = mp.Process(target=listen, args=(queue,))\n",
    "    speaker_process = mp.Process(target=speak, args=(queue,))\n",
    "    listener_process.start()\n",
    "    speaker_process.start()\n",
    "    listener_process.join()\n",
    "    speaker_process.join()"
   ]
  }
 ],
 "metadata": {
  "kernelspec": {
   "display_name": "Python 3",
   "language": "python",
   "name": "python3"
  },
  "language_info": {
   "codemirror_mode": {
    "name": "ipython",
    "version": 3
   },
   "file_extension": ".py",
   "mimetype": "text/x-python",
   "name": "python",
   "nbconvert_exporter": "python",
   "pygments_lexer": "ipython3",
   "version": "3.7.9"
  }
 },
 "nbformat": 4,
 "nbformat_minor": 2
}
