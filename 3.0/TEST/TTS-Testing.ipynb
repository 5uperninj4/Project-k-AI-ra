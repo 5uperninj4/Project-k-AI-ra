{
 "cells": [
  {
   "cell_type": "code",
   "execution_count": null,
   "metadata": {},
   "outputs": [],
   "source": [
    "import RealtimeTTS\n",
    "import gtts\n",
    "from RealtimeTTS import *\n",
    "import openai\n",
    "import pyttsx3 as tts"
   ]
  },
  {
   "cell_type": "code",
   "execution_count": 18,
   "metadata": {},
   "outputs": [
    {
     "name": "stderr",
     "output_type": "stream",
     "text": [
      "C:\\Users\\logan\\AppData\\Local\\Packages\\PythonSoftwareFoundation.Python.3.10_qbz5n2kfra8p0\\LocalCache\\local-packages\\Python310\\site-packages\\pydub\\utils.py:198: RuntimeWarning: Couldn't find ffprobe or avprobe - defaulting to ffprobe, but may not work\n",
      "  warn(\"Couldn't find ffprobe or avprobe - defaulting to ffprobe, but may not work\", RuntimeWarning)\n",
      "WARNING:root:engine gtts failed to synthesize sentence \"hfh\", unknown error\n",
      "WARNING:root:engine gtts is the only engine available, can't switch to another engine\n"
     ]
    },
    {
     "name": "stdout",
     "output_type": "stream",
     "text": [
      "Error in synthesizing text: [WinError 2] The system cannot find the file specified\n"
     ]
    }
   ],
   "source": [
    "engine = GTTSEngine()\n",
    "stream = TextToAudioStream(engine)\n",
    "stream.feed(input(''))\n",
    "stream.play_async()"
   ]
  },
  {
   "cell_type": "code",
   "execution_count": 17,
   "metadata": {},
   "outputs": [
    {
     "name": "stderr",
     "output_type": "stream",
     "text": [
      "WARNING:root:play_async() called while already playing audio, skipping\n"
     ]
    }
   ],
   "source": [
    "def write(prompt: str):\n",
    "    for chunk in openai.ChatCompletion.create(\n",
    "        model=\"gpt-3.5-turbo\",\n",
    "        messages=[{\"role\": \"user\", \"content\" : prompt}],\n",
    "        stream=True\n",
    "    ):\n",
    "        if (text_chunk := chunk[\"choices\"][0][\"delta\"].get(\"content\")) is not None:\n",
    "            yield text_chunk\n",
    "\n",
    "text_stream = write(\"A three-sentence relaxing speech.\")\n",
    "\n",
    "stream.feed(text_stream)\n",
    "stream.play_async()"
   ]
  },
  {
   "cell_type": "code",
   "execution_count": 14,
   "metadata": {},
   "outputs": [
    {
     "name": "stderr",
     "output_type": "stream",
     "text": [
      "WARNING:root:play_async() called while already playing audio, skipping\n"
     ]
    }
   ],
   "source": [
    "char_iterator = iter(\"Streaming this character by character.\")\n",
    "stream.feed(char_iterator)\n",
    "stream.play_async()"
   ]
  }
 ],
 "metadata": {
  "kernelspec": {
   "display_name": "Python 3",
   "language": "python",
   "name": "python3"
  },
  "language_info": {
   "codemirror_mode": {
    "name": "ipython",
    "version": 3
   },
   "file_extension": ".py",
   "mimetype": "text/x-python",
   "name": "python",
   "nbconvert_exporter": "python",
   "pygments_lexer": "ipython3",
   "version": "3.10.11"
  }
 },
 "nbformat": 4,
 "nbformat_minor": 2
}
