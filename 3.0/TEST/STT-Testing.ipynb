{
 "cells": [
  {
   "cell_type": "code",
   "execution_count": 10,
   "metadata": {},
   "outputs": [
    {
     "name": "stdout",
     "output_type": "stream",
     "text": [
      "Okay, I was saying speaking now, but what's going on?ow\\ speak now| speak now/ speak now- recording\\ recording| recording/ recording- recording\\ recording| recording/ recording- recording\\ recording| recording/ recording- recording\\ recording| recording/ recording- recording\\ recording| recording/ recording- recording\\ recording| recording/ recording- recording\\ recording transcribing\\ transcribing\n"
     ]
    }
   ],
   "source": [
    "import RealtimeSTT as stt\n",
    "\n",
    "stt.recorder.start()"
   ]
  }
 ],
 "metadata": {
  "kernelspec": {
   "display_name": "Python 3",
   "language": "python",
   "name": "python3"
  },
  "language_info": {
   "codemirror_mode": {
    "name": "ipython",
    "version": 3
   },
   "file_extension": ".py",
   "mimetype": "text/x-python",
   "name": "python",
   "nbconvert_exporter": "python",
   "pygments_lexer": "ipython3",
   "version": "3.8.10"
  }
 },
 "nbformat": 4,
 "nbformat_minor": 2
}
